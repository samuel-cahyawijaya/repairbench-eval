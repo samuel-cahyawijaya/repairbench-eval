{
 "cells": [
  {
   "cell_type": "code",
   "execution_count": 1,
   "id": "41c26ac2-66d7-47fd-9f1c-f1dbfe31520a",
   "metadata": {},
   "outputs": [
    {
     "name": "stdout",
     "output_type": "stream",
     "text": [
      "sagemaker.config INFO - Not applying SDK defaults from location: /etc/xdg/sagemaker/config.yaml\n",
      "sagemaker.config INFO - Not applying SDK defaults from location: /home/samuelcahyawijaya_cohere_com/.config/sagemaker/config.yaml\n"
     ]
    }
   ],
   "source": [
    "import os, sys\n",
    "import json\n",
    "import jsonlines\n",
    "import pandas as pd\n",
    "from glob import glob\n",
    "from tqdm import tqdm\n",
    "\n",
    "import cohere\n",
    "import requests\n",
    "import base64\n",
    "import pickle\n",
    "import torch\n",
    "\n",
    "import arabic_reshaper\n",
    "from bidi.algorithm import get_display"
   ]
  },
  {
   "cell_type": "code",
   "execution_count": 2,
   "id": "2ff36abe-c217-471d-bc72-d5ee93658b5c",
   "metadata": {},
   "outputs": [],
   "source": [
    "# Init Cohere API\n",
    "co = cohere.ClientV2(\n",
    "    base_url=\"https://stg.api.cohere.com\", \n",
    "    api_key=os.getenv(\"CO_API_KEY_STAGING\")\n",
    ")"
   ]
  },
  {
   "cell_type": "code",
   "execution_count": 3,
   "id": "e6d3273e-9d7a-4d97-a82c-3db18b9d1c80",
   "metadata": {},
   "outputs": [
    {
     "name": "stdout",
     "output_type": "stream",
     "text": [
      "/home/samuelcahyawijaya_cohere_com/repos_v3/retrieval-augmentation/repairbench/repairbench_ar_docs/Bose_quietcomfort-45_AR.pdf.json 56\n",
      "/home/samuelcahyawijaya_cohere_com/repos_v3/retrieval-augmentation/repairbench/repairbench_ar_docs/Bose_og_tv-speaker_AR.pdf.json 48\n",
      "/home/samuelcahyawijaya_cohere_com/repos_v3/retrieval-augmentation/repairbench/repairbench_ar_docs/FlyingTiger_advent_calendar_AR.pdf.json 5\n",
      "/home/samuelcahyawijaya_cohere_com/repos_v3/retrieval-augmentation/repairbench/repairbench_ar_docs/Bose_frames-soprano-tenor_AR.pdf.json 53\n"
     ]
    }
   ],
   "source": [
    "# Read raw data\n",
    "ar_raw_df = pd.read_csv('repairbench_ar.csv')\n",
    "ar_raw_df = ar_raw_df.loc[ar_raw_df['product_name'] != 'PS4']# Skip PS4 since there is only a single document chunk pointing to an extenal url\n",
    "\n",
    "# Read context documents\n",
    "docs_data = []\n",
    "for path in glob('/home/samuelcahyawijaya_cohere_com/repos_v3/retrieval-augmentation/repairbench/repairbench_ar_docs/*'):\n",
    "    if 'PS4' in path:\n",
    "        continue\n",
    "    docs_data += json.load(open(path, 'r'))\n",
    "    print(path, len(json.load(open(path, 'r'))))"
   ]
  },
  {
   "cell_type": "code",
   "execution_count": 4,
   "id": "bffde824-3c06-406f-9e31-b69fe28622b8",
   "metadata": {},
   "outputs": [
    {
     "name": "stderr",
     "output_type": "stream",
     "text": [
      "100%|████████████████████████████████████████████████████████████████████████████████████████████████████████████████████████████████████████████| 6/6 [00:12<00:00,  2.04s/it]\n"
     ]
    }
   ],
   "source": [
    "# Build Index\n",
    "if os.path.exists('arabic_docs_embed.pkl'):\n",
    "    print('loading docs embed from cache...')\n",
    "    docs_embeds = pickle.load(open('arabic_docs_embed.pkl', 'rb'))\n",
    "else:\n",
    "    texts = list(map(lambda x: x['text'], docs_data))\n",
    "    bs = 32\n",
    "\n",
    "docs_embeds = []\n",
    "for i in tqdm(range((len(texts) // bs) + 1)):\n",
    "    text_batch = texts[i*bs:(i+1)*bs]\n",
    "    for j, text in enumerate(text_batch):\n",
    "        text_batch[j] = '\\n'.join(list(map(lambda x: get_display(x), text.split('\\n'))))\n",
    "        \n",
    "    response = co.embed(\n",
    "        model=\"embed-multilingual-v3.0\",\n",
    "        input_type=\"search_document\", \n",
    "        embedding_types=[\"float\"],\n",
    "        texts=text_batch\n",
    "    )\n",
    "\n",
    "    docs_embeds += response.embeddings.float_\n",
    "docs_embeds = torch.Tensor(docs_embeds)\n",
    "pickle.dump(docs_embeds, open('arabic_docs_embed.pkl', 'wb'))"
   ]
  },
  {
   "cell_type": "code",
   "execution_count": 28,
   "id": "a2d02147-0b94-4dc3-a006-832687dbd9ae",
   "metadata": {},
   "outputs": [
    {
     "name": "stdout",
     "output_type": "stream",
     "text": [
      "loading query embed from cache...\n"
     ]
    },
    {
     "name": "stderr",
     "output_type": "stream",
     "text": [
      "50it [00:03, 13.14it/s]\n"
     ]
    }
   ],
   "source": [
    "# Embed all queries\n",
    "if os.path.exists('arabic_query_embed.pkl'):\n",
    "    print('loading query embed from cache...')\n",
    "    query_embeds = pickle.load(open('arabic_query_embed.pkl', 'rb'))\n",
    "else:\n",
    "    query_embeds = torch.Tensor(co.embed(\n",
    "        model=\"embed-multilingual-v3.0\",\n",
    "        input_type=\"search_query\", \n",
    "        embedding_types=[\"float\"],\n",
    "        texts=ar_raw_df['query'].tolist()\n",
    "    ).embeddings.float_)\n",
    "    pickle.dump(query_embeds, open('arabic_query_embed.pkl', 'wb'))\n",
    "\n",
    "filename_to_product_map = {\n",
    "    'Bose_frames-soprano-tenor_AR.pdf': 'Bose Frames',\n",
    "    'Bose_og_tv-speaker_AR.pdf': 'Bose TV Speaker',\n",
    "    'Bose_quietcomfort-45_AR.pdf': 'Bose QuietComfort 45 Headphones',\n",
    "    'FlyingTiger_advent_calendar_AR.pdf': 'Flying Tiger Advent Calendar'\n",
    "}\n",
    "\n",
    "formatted_data = []\n",
    "for i, row in tqdm(ar_raw_df.iterrows()):\n",
    "    # Search for top-15 documents\n",
    "    query_embed = query_embeds[i,:]\n",
    "    topk_indices = (query_embed @ docs_embeds.T).topk(15).indices.tolist()\n",
    "    # print((query_embed @ docs_embeds.T).topk(15).values.min())\n",
    "    \n",
    "    # Add output data\n",
    "    formatted_data.append({\n",
    "        'unique_id': f\"Q{i}\",\n",
    "        'turn_no': 0,\n",
    "        'source_dataset': 'repair_bench_2024-09-30_arabic',\n",
    "        'history': [],\n",
    "        'question': row['query'],\n",
    "        'search_query': [{'type': 'direct-injected-document'}],\n",
    "        'long_answer': None,\n",
    "        'rationale': None,\n",
    "        'waypoints': [0],\n",
    "        'init_plan_rationale': None,\n",
    "        'rephrased_answer': None,\n",
    "        'search_results': [[{\n",
    "            'unique_id': f\"{docs_data[idx]['metadata']['filename']}_{docs_data[idx]['metadata']['page_number']}\",\n",
    "            'rank': rank,\n",
    "            'snippet': '\\n'.join(list(map(lambda x: get_display(x), docs_data[idx]['text'].split('\\n')))),\n",
    "            'source': docs_data[idx]['metadata']['filename'],\n",
    "            'text': '\\n'.join(list(map(lambda x: get_display(x), docs_data[idx]['text'].split('\\n')))),\n",
    "            'url': '',\n",
    "            'title': filename_to_product_map[docs_data[idx]['metadata']['filename']],\n",
    "            'is_relevant': None,\n",
    "            'html_view': '<!DOCTYPE html>\\n<html>\\n<body><div style=\"text-align: right;\">\\n' + \\\n",
    "                '\\n'.join(list(map(lambda x: get_display(x), docs_data[idx]['text'].split('\\n')))) + \\\n",
    "                '</div></body>\\n</html>',\n",
    "            'chunk_idx': idx\n",
    "        } for rank, idx in enumerate(topk_indices)]],\n",
    "        'gold_search_results': [[]],\n",
    "        'closed_book_answer': None,\n",
    "        'short_answer': None,\n",
    "        'database_name': None,\n",
    "        'stop_tool_training': [True],\n",
    "        'follow_up_questions': None,\n",
    "        'follow_up_answers': None,\n",
    "        'timestamp_override': None,\n",
    "        'preamble_override': None,\n",
    "        'structured_preamble': None,\n",
    "        'original_document': None,\n",
    "        'chunk_strategy': None,\n",
    "        'chunk_size': None,\n",
    "        'is_sensitive': False,\n",
    "        'sensitive_category': None,\n",
    "        'metadata': {\n",
    "            'label': row['label'], \n",
    "            'question_type': row['question_type'], \n",
    "            'product_name': row['product_name'], \n",
    "            'failure_mode':row['failure_mode'], \n",
    "            'category': row['category'],\n",
    "        },\n",
    "        'no_search_required': None,\n",
    "        'custom_tool_definitions': None,\n",
    "    })\n",
    "\n",
    "with jsonlines.open('arabic-annotation-dataset.jsonl', 'w') as writer:\n",
    "    writer.write_all(formatted_data)"
   ]
  },
  {
   "cell_type": "code",
   "execution_count": 27,
   "id": "9ee81698-8254-4b28-9bb4-e2e3addca390",
   "metadata": {},
   "outputs": [
    {
     "data": {
      "text/plain": [
       "array(['Bose Frames', 'Bose QuietComfort 45 Headphones',\n",
       "       'Bose TV Speaker', 'Flying Tiger Advent Calendar'], dtype=object)"
      ]
     },
     "execution_count": 27,
     "metadata": {},
     "output_type": "execute_result"
    }
   ],
   "source": [
    "ar_raw_df['product_name'].unique()"
   ]
  },
  {
   "cell_type": "code",
   "execution_count": 25,
   "id": "dc3bec70-70f9-431b-96c3-68cbebf126b0",
   "metadata": {
    "scrolled": true
   },
   "outputs": [
    {
     "data": {
      "text/plain": [
       "{'Bose_frames-soprano-tenor_AR.pdf',\n",
       " 'Bose_og_tv-speaker_AR.pdf',\n",
       " 'Bose_quietcomfort-45_AR.pdf',\n",
       " 'FlyingTiger_advent_calendar_AR.pdf'}"
      ]
     },
     "execution_count": 25,
     "metadata": {},
     "output_type": "execute_result"
    }
   ],
   "source": [
    "set(map(lambda x: x['metadata']['filename'], docs_data))"
   ]
  },
  {
   "cell_type": "code",
   "execution_count": 30,
   "id": "c61dbf0e-5426-4daf-ae4f-8bb6b407c425",
   "metadata": {},
   "outputs": [
    {
     "data": {
      "text/plain": [
       "['Bose Frames',\n",
       " 'Bose Frames',\n",
       " 'Bose Frames',\n",
       " 'Bose Frames',\n",
       " 'Bose Frames',\n",
       " 'Bose Frames',\n",
       " 'Bose Frames',\n",
       " 'Bose Frames',\n",
       " 'Bose Frames',\n",
       " 'Bose Frames',\n",
       " 'Bose Frames',\n",
       " 'Bose Frames',\n",
       " 'Bose TV Speaker',\n",
       " 'Bose Frames',\n",
       " 'Bose QuietComfort 45 Headphones']"
      ]
     },
     "execution_count": 30,
     "metadata": {},
     "output_type": "execute_result"
    }
   ],
   "source": [
    "list(map(lambda x: x['title'], formatted_data[0]['search_results'][0]))"
   ]
  },
  {
   "cell_type": "code",
   "execution_count": 33,
   "id": "0be95441-74cf-43f3-abdf-56291153582f",
   "metadata": {},
   "outputs": [
    {
     "name": "stdout",
     "output_type": "stream",
     "text": [
      "['Bose Frames', 'Bose Frames', 'Bose Frames', 'Bose Frames', 'Bose Frames', 'Bose Frames', 'Bose Frames', 'Bose Frames', 'Bose Frames', 'Bose Frames', 'Bose Frames', 'Bose Frames', 'Bose TV Speaker', 'Bose Frames', 'Bose QuietComfort 45 Headphones']\n",
      "['Bose Frames', 'Bose QuietComfort 45 Headphones', 'Bose Frames', 'Bose QuietComfort 45 Headphones', 'Bose Frames', 'Bose Frames', 'Bose TV Speaker', 'Bose QuietComfort 45 Headphones', 'Bose Frames', 'Bose Frames', 'Bose TV Speaker', 'Bose TV Speaker', 'Bose Frames', 'Bose Frames', 'Bose Frames']\n",
      "['Bose Frames', 'Bose Frames', 'Bose TV Speaker', 'Bose QuietComfort 45 Headphones', 'Bose Frames', 'Bose QuietComfort 45 Headphones', 'Bose QuietComfort 45 Headphones', 'Bose QuietComfort 45 Headphones', 'Bose TV Speaker', 'Bose Frames', 'Bose Frames', 'Bose TV Speaker', 'Bose TV Speaker', 'Bose TV Speaker', 'Bose TV Speaker']\n",
      "['Bose Frames', 'Bose Frames', 'Bose Frames', 'Bose Frames', 'Bose QuietComfort 45 Headphones', 'Bose TV Speaker', 'Bose QuietComfort 45 Headphones', 'Bose QuietComfort 45 Headphones', 'Bose Frames', 'Bose QuietComfort 45 Headphones', 'Bose QuietComfort 45 Headphones', 'Bose Frames', 'Bose Frames', 'Bose QuietComfort 45 Headphones', 'Bose Frames']\n",
      "['Bose TV Speaker', 'Bose QuietComfort 45 Headphones', 'Bose Frames', 'Bose Frames', 'Bose TV Speaker', 'Bose TV Speaker', 'Bose Frames', 'Bose QuietComfort 45 Headphones', 'Bose Frames', 'Bose Frames', 'Bose QuietComfort 45 Headphones', 'Bose QuietComfort 45 Headphones', 'Bose TV Speaker', 'Bose Frames', 'Bose QuietComfort 45 Headphones']\n",
      "['Bose Frames', 'Bose QuietComfort 45 Headphones', 'Bose Frames', 'Bose QuietComfort 45 Headphones', 'Bose Frames', 'Bose QuietComfort 45 Headphones', 'Bose QuietComfort 45 Headphones', 'Bose QuietComfort 45 Headphones', 'Bose QuietComfort 45 Headphones', 'Bose TV Speaker', 'Bose TV Speaker', 'Bose QuietComfort 45 Headphones', 'Bose Frames', 'Bose Frames', 'Bose QuietComfort 45 Headphones']\n",
      "['Bose QuietComfort 45 Headphones', 'Bose Frames', 'Bose Frames', 'Bose Frames', 'Bose Frames', 'Bose QuietComfort 45 Headphones', 'Bose Frames', 'Bose Frames', 'Bose TV Speaker', 'Bose Frames', 'Bose TV Speaker', 'Bose QuietComfort 45 Headphones', 'Bose Frames', 'Bose QuietComfort 45 Headphones', 'Bose Frames']\n",
      "['Bose QuietComfort 45 Headphones', 'Bose QuietComfort 45 Headphones', 'Bose QuietComfort 45 Headphones', 'Bose QuietComfort 45 Headphones', 'Bose Frames', 'Bose Frames', 'Bose Frames', 'Bose QuietComfort 45 Headphones', 'Bose Frames', 'Bose Frames', 'Bose Frames', 'Bose TV Speaker', 'Bose QuietComfort 45 Headphones', 'Bose QuietComfort 45 Headphones', 'Bose Frames']\n",
      "['Bose Frames', 'Bose Frames', 'Bose Frames', 'Bose TV Speaker', 'Bose Frames', 'Bose TV Speaker', 'Bose Frames', 'Bose Frames', 'Bose Frames', 'Bose TV Speaker', 'Bose QuietComfort 45 Headphones', 'Bose TV Speaker', 'Bose QuietComfort 45 Headphones', 'Bose Frames', 'Bose Frames']\n",
      "['Bose QuietComfort 45 Headphones', 'Bose Frames', 'Bose Frames', 'Bose Frames', 'Bose Frames', 'Bose Frames', 'Bose QuietComfort 45 Headphones', 'Bose QuietComfort 45 Headphones', 'Bose Frames', 'Bose QuietComfort 45 Headphones', 'Bose Frames', 'Bose QuietComfort 45 Headphones', 'Bose TV Speaker', 'Bose TV Speaker', 'Bose TV Speaker']\n",
      "['Bose QuietComfort 45 Headphones', 'Bose QuietComfort 45 Headphones', 'Bose QuietComfort 45 Headphones', 'Bose TV Speaker', 'Bose Frames', 'Bose QuietComfort 45 Headphones', 'Bose Frames', 'Bose Frames', 'Bose QuietComfort 45 Headphones', 'Bose TV Speaker', 'Bose Frames', 'Bose Frames', 'Bose Frames', 'Bose TV Speaker', 'Bose Frames']\n",
      "['Bose TV Speaker', 'Bose QuietComfort 45 Headphones', 'Bose TV Speaker', 'Bose QuietComfort 45 Headphones', 'Bose Frames', 'Bose Frames', 'Bose TV Speaker', 'Bose Frames', 'Bose QuietComfort 45 Headphones', 'Bose Frames', 'Bose QuietComfort 45 Headphones', 'Bose Frames', 'Bose Frames', 'Bose Frames', 'Bose QuietComfort 45 Headphones']\n",
      "['Bose Frames', 'Bose Frames', 'Bose Frames', 'Bose Frames', 'Bose Frames', 'Bose QuietComfort 45 Headphones', 'Bose TV Speaker', 'Bose TV Speaker', 'Bose Frames', 'Bose TV Speaker', 'Bose TV Speaker', 'Bose QuietComfort 45 Headphones', 'Bose TV Speaker', 'Bose QuietComfort 45 Headphones', 'Bose QuietComfort 45 Headphones']\n",
      "['Bose QuietComfort 45 Headphones', 'Bose QuietComfort 45 Headphones', 'Bose Frames', 'Bose Frames', 'Bose Frames', 'Bose QuietComfort 45 Headphones', 'Bose TV Speaker', 'Bose QuietComfort 45 Headphones', 'Bose QuietComfort 45 Headphones', 'Bose QuietComfort 45 Headphones', 'Bose TV Speaker', 'Bose QuietComfort 45 Headphones', 'Bose TV Speaker', 'Bose QuietComfort 45 Headphones', 'Bose TV Speaker']\n",
      "['Bose Frames', 'Bose QuietComfort 45 Headphones', 'Bose TV Speaker', 'Bose Frames', 'Bose TV Speaker', 'Bose Frames', 'Bose Frames', 'Bose Frames', 'Bose QuietComfort 45 Headphones', 'Bose Frames', 'Bose Frames', 'Bose QuietComfort 45 Headphones', 'Bose Frames', 'Bose QuietComfort 45 Headphones', 'Bose QuietComfort 45 Headphones']\n",
      "['Bose TV Speaker', 'Bose QuietComfort 45 Headphones', 'Bose QuietComfort 45 Headphones', 'Bose QuietComfort 45 Headphones', 'Bose QuietComfort 45 Headphones', 'Bose QuietComfort 45 Headphones', 'Bose Frames', 'Bose QuietComfort 45 Headphones', 'Bose TV Speaker', 'Bose QuietComfort 45 Headphones', 'Bose QuietComfort 45 Headphones', 'Bose Frames', 'Bose QuietComfort 45 Headphones', 'Bose TV Speaker', 'Bose Frames']\n",
      "['Bose QuietComfort 45 Headphones', 'Bose QuietComfort 45 Headphones', 'Bose QuietComfort 45 Headphones', 'Bose QuietComfort 45 Headphones', 'Bose QuietComfort 45 Headphones', 'Bose QuietComfort 45 Headphones', 'Bose QuietComfort 45 Headphones', 'Bose QuietComfort 45 Headphones', 'Bose TV Speaker', 'Bose TV Speaker', 'Bose TV Speaker', 'Bose QuietComfort 45 Headphones', 'Bose Frames', 'Bose QuietComfort 45 Headphones', 'Bose Frames']\n",
      "['Bose TV Speaker', 'Bose QuietComfort 45 Headphones', 'Bose QuietComfort 45 Headphones', 'Bose Frames', 'Bose QuietComfort 45 Headphones', 'Bose TV Speaker', 'Bose Frames', 'Bose Frames', 'Bose Frames', 'Bose QuietComfort 45 Headphones', 'Bose TV Speaker', 'Bose TV Speaker', 'Bose Frames', 'Bose Frames', 'Bose Frames']\n",
      "['Bose Frames', 'Bose QuietComfort 45 Headphones', 'Bose TV Speaker', 'Bose Frames', 'Bose QuietComfort 45 Headphones', 'Bose QuietComfort 45 Headphones', 'Bose QuietComfort 45 Headphones', 'Bose TV Speaker', 'Bose QuietComfort 45 Headphones', 'Bose Frames', 'Bose TV Speaker', 'Bose Frames', 'Bose TV Speaker', 'Bose QuietComfort 45 Headphones', 'Bose Frames']\n",
      "['Bose Frames', 'Bose QuietComfort 45 Headphones', 'Bose QuietComfort 45 Headphones', 'Bose Frames', 'Bose Frames', 'Bose Frames', 'Bose TV Speaker', 'Bose Frames', 'Bose QuietComfort 45 Headphones', 'Bose Frames', 'Bose Frames', 'Bose Frames', 'Bose Frames', 'Bose Frames', 'Bose Frames']\n",
      "['Bose Frames', 'Bose Frames', 'Bose Frames', 'Bose TV Speaker', 'Bose TV Speaker', 'Bose Frames', 'Bose QuietComfort 45 Headphones', 'Bose QuietComfort 45 Headphones', 'Bose Frames', 'Bose Frames', 'Bose TV Speaker', 'Bose Frames', 'Bose TV Speaker', 'Bose QuietComfort 45 Headphones', 'Bose Frames']\n",
      "['Bose TV Speaker', 'Bose TV Speaker', 'Bose TV Speaker', 'Bose QuietComfort 45 Headphones', 'Bose QuietComfort 45 Headphones', 'Bose TV Speaker', 'Bose Frames', 'Bose QuietComfort 45 Headphones', 'Bose TV Speaker', 'Bose Frames', 'Bose QuietComfort 45 Headphones', 'Bose TV Speaker', 'Bose Frames', 'Bose QuietComfort 45 Headphones', 'Bose TV Speaker']\n",
      "['Bose QuietComfort 45 Headphones', 'Bose QuietComfort 45 Headphones', 'Bose TV Speaker', 'Bose Frames', 'Bose Frames', 'Bose TV Speaker', 'Bose QuietComfort 45 Headphones', 'Bose TV Speaker', 'Bose QuietComfort 45 Headphones', 'Bose TV Speaker', 'Bose QuietComfort 45 Headphones', 'Bose Frames', 'Bose Frames', 'Bose QuietComfort 45 Headphones', 'Bose QuietComfort 45 Headphones']\n",
      "['Bose QuietComfort 45 Headphones', 'Bose QuietComfort 45 Headphones', 'Bose TV Speaker', 'Bose QuietComfort 45 Headphones', 'Bose QuietComfort 45 Headphones', 'Bose Frames', 'Bose QuietComfort 45 Headphones', 'Bose QuietComfort 45 Headphones', 'Bose QuietComfort 45 Headphones', 'Bose TV Speaker', 'Bose TV Speaker', 'Bose TV Speaker', 'Bose Frames', 'Bose QuietComfort 45 Headphones', 'Bose Frames']\n",
      "['Bose QuietComfort 45 Headphones', 'Bose Frames', 'Bose Frames', 'Bose QuietComfort 45 Headphones', 'Bose TV Speaker', 'Bose QuietComfort 45 Headphones', 'Bose QuietComfort 45 Headphones', 'Bose TV Speaker', 'Bose QuietComfort 45 Headphones', 'Bose QuietComfort 45 Headphones', 'Bose Frames', 'Bose Frames', 'Bose TV Speaker', 'Bose QuietComfort 45 Headphones', 'Bose TV Speaker']\n",
      "['Bose QuietComfort 45 Headphones', 'Bose TV Speaker', 'Bose QuietComfort 45 Headphones', 'Bose QuietComfort 45 Headphones', 'Bose TV Speaker', 'Bose QuietComfort 45 Headphones', 'Bose QuietComfort 45 Headphones', 'Bose TV Speaker', 'Bose QuietComfort 45 Headphones', 'Bose QuietComfort 45 Headphones', 'Bose QuietComfort 45 Headphones', 'Bose Frames', 'Bose Frames', 'Bose QuietComfort 45 Headphones', 'Bose TV Speaker']\n",
      "['Bose QuietComfort 45 Headphones', 'Bose QuietComfort 45 Headphones', 'Bose QuietComfort 45 Headphones', 'Bose TV Speaker', 'Bose QuietComfort 45 Headphones', 'Bose TV Speaker', 'Bose Frames', 'Bose QuietComfort 45 Headphones', 'Bose QuietComfort 45 Headphones', 'Bose TV Speaker', 'Bose Frames', 'Bose QuietComfort 45 Headphones', 'Bose Frames', 'Bose TV Speaker', 'Bose Frames']\n",
      "['Bose TV Speaker', 'Bose Frames', 'Bose QuietComfort 45 Headphones', 'Bose Frames', 'Bose TV Speaker', 'Bose Frames', 'Bose TV Speaker', 'Bose TV Speaker', 'Bose QuietComfort 45 Headphones', 'Bose TV Speaker', 'Bose TV Speaker', 'Bose Frames', 'Bose Frames', 'Bose Frames', 'Bose Frames']\n",
      "['Bose TV Speaker', 'Bose TV Speaker', 'Bose TV Speaker', 'Bose TV Speaker', 'Bose TV Speaker', 'Bose TV Speaker', 'Bose TV Speaker', 'Bose TV Speaker', 'Bose TV Speaker', 'Bose TV Speaker', 'Bose TV Speaker', 'Bose TV Speaker', 'Bose TV Speaker', 'Bose TV Speaker', 'Bose Frames']\n",
      "['Bose Frames', 'Bose Frames', 'Bose TV Speaker', 'Bose TV Speaker', 'Bose Frames', 'Bose Frames', 'Bose Frames', 'Bose TV Speaker', 'Bose Frames', 'Bose QuietComfort 45 Headphones', 'Bose QuietComfort 45 Headphones', 'Bose QuietComfort 45 Headphones', 'Bose QuietComfort 45 Headphones', 'Bose QuietComfort 45 Headphones', 'Bose QuietComfort 45 Headphones']\n",
      "['Bose QuietComfort 45 Headphones', 'Bose Frames', 'Bose TV Speaker', 'Bose Frames', 'Bose TV Speaker', 'Bose Frames', 'Bose QuietComfort 45 Headphones', 'Bose Frames', 'Bose QuietComfort 45 Headphones', 'Bose Frames', 'Bose TV Speaker', 'Bose TV Speaker', 'Bose TV Speaker', 'Bose TV Speaker', 'Bose Frames']\n",
      "['Bose Frames', 'Bose Frames', 'Bose TV Speaker', 'Bose Frames', 'Bose TV Speaker', 'Bose TV Speaker', 'Bose Frames', 'Bose TV Speaker', 'Bose QuietComfort 45 Headphones', 'Bose Frames', 'Bose Frames', 'Bose Frames', 'Bose TV Speaker', 'Bose QuietComfort 45 Headphones', 'Bose TV Speaker']\n",
      "['Bose TV Speaker', 'Bose QuietComfort 45 Headphones', 'Bose TV Speaker', 'Bose Frames', 'Bose Frames', 'Bose QuietComfort 45 Headphones', 'Bose Frames', 'Bose Frames', 'Bose Frames', 'Bose Frames', 'Bose QuietComfort 45 Headphones', 'Bose TV Speaker', 'Bose TV Speaker', 'Bose Frames', 'Bose TV Speaker']\n",
      "['Bose QuietComfort 45 Headphones', 'Bose TV Speaker', 'Bose TV Speaker', 'Bose TV Speaker', 'Bose QuietComfort 45 Headphones', 'Bose TV Speaker', 'Bose Frames', 'Bose TV Speaker', 'Bose Frames', 'Bose QuietComfort 45 Headphones', 'Bose TV Speaker', 'Bose TV Speaker', 'Bose Frames', 'Bose Frames', 'Bose TV Speaker']\n",
      "['Bose TV Speaker', 'Bose TV Speaker', 'Bose TV Speaker', 'Bose TV Speaker', 'Bose TV Speaker', 'Bose TV Speaker', 'Bose TV Speaker', 'Bose TV Speaker', 'Bose TV Speaker', 'Bose TV Speaker', 'Bose Frames', 'Bose TV Speaker', 'Bose TV Speaker', 'Bose Frames', 'Bose TV Speaker']\n",
      "['Bose TV Speaker', 'Bose TV Speaker', 'Bose QuietComfort 45 Headphones', 'Bose Frames', 'Bose QuietComfort 45 Headphones', 'Bose QuietComfort 45 Headphones', 'Bose QuietComfort 45 Headphones', 'Bose Frames', 'Bose QuietComfort 45 Headphones', 'Bose QuietComfort 45 Headphones', 'Bose TV Speaker', 'Bose QuietComfort 45 Headphones', 'Bose QuietComfort 45 Headphones', 'Bose Frames', 'Bose TV Speaker']\n",
      "['Bose Frames', 'Bose Frames', 'Bose QuietComfort 45 Headphones', 'Bose TV Speaker', 'Bose Frames', 'Bose QuietComfort 45 Headphones', 'Bose Frames', 'Bose TV Speaker', 'Bose TV Speaker', 'Bose QuietComfort 45 Headphones', 'Bose Frames', 'Bose QuietComfort 45 Headphones', 'Bose Frames', 'Bose QuietComfort 45 Headphones', 'Bose Frames']\n",
      "['Bose TV Speaker', 'Bose TV Speaker', 'Bose Frames', 'Bose Frames', 'Bose QuietComfort 45 Headphones', 'Bose TV Speaker', 'Bose Frames', 'Bose TV Speaker', 'Bose Frames', 'Bose QuietComfort 45 Headphones', 'Bose Frames', 'Bose TV Speaker', 'Bose TV Speaker', 'Bose TV Speaker', 'Bose TV Speaker']\n",
      "['Bose TV Speaker', 'Bose TV Speaker', 'Bose TV Speaker', 'Bose Frames', 'Bose QuietComfort 45 Headphones', 'Bose TV Speaker', 'Bose TV Speaker', 'Bose QuietComfort 45 Headphones', 'Bose TV Speaker', 'Bose TV Speaker', 'Bose TV Speaker', 'Bose TV Speaker', 'Bose TV Speaker', 'Bose TV Speaker', 'Bose TV Speaker']\n",
      "['Bose TV Speaker', 'Bose QuietComfort 45 Headphones', 'Bose QuietComfort 45 Headphones', 'Bose Frames', 'Bose Frames', 'Bose TV Speaker', 'Bose TV Speaker', 'Bose TV Speaker', 'Bose QuietComfort 45 Headphones', 'Bose Frames', 'Bose QuietComfort 45 Headphones', 'Bose QuietComfort 45 Headphones', 'Bose Frames', 'Bose Frames', 'Bose TV Speaker']\n",
      "['Bose Frames', 'Bose QuietComfort 45 Headphones', 'Bose TV Speaker', 'Flying Tiger Advent Calendar', 'Bose QuietComfort 45 Headphones', 'Flying Tiger Advent Calendar', 'Bose Frames', 'Bose QuietComfort 45 Headphones', 'Bose Frames', 'Bose TV Speaker', 'Bose TV Speaker', 'Flying Tiger Advent Calendar', 'Bose Frames', 'Bose QuietComfort 45 Headphones', 'Bose QuietComfort 45 Headphones']\n",
      "['Bose Frames', 'Bose Frames', 'Bose Frames', 'Bose Frames', 'Flying Tiger Advent Calendar', 'Bose TV Speaker', 'Bose Frames', 'Flying Tiger Advent Calendar', 'Bose TV Speaker', 'Bose TV Speaker', 'Bose Frames', 'Bose Frames', 'Bose Frames', 'Bose Frames', 'Bose QuietComfort 45 Headphones']\n",
      "['Bose Frames', 'Bose TV Speaker', 'Bose Frames', 'Bose Frames', 'Bose QuietComfort 45 Headphones', 'Bose QuietComfort 45 Headphones', 'Bose Frames', 'Bose QuietComfort 45 Headphones', 'Bose Frames', 'Bose QuietComfort 45 Headphones', 'Bose Frames', 'Bose Frames', 'Bose Frames', 'Bose TV Speaker', 'Bose Frames']\n",
      "['Bose Frames', 'Bose TV Speaker', 'Bose Frames', 'Bose TV Speaker', 'Bose Frames', 'Bose TV Speaker', 'Bose QuietComfort 45 Headphones', 'Bose Frames', 'Flying Tiger Advent Calendar', 'Bose QuietComfort 45 Headphones', 'Bose QuietComfort 45 Headphones', 'Bose TV Speaker', 'Flying Tiger Advent Calendar', 'Bose Frames', 'Bose TV Speaker']\n",
      "['Bose Frames', 'Flying Tiger Advent Calendar', 'Flying Tiger Advent Calendar', 'Bose QuietComfort 45 Headphones', 'Bose Frames', 'Bose TV Speaker', 'Bose Frames', 'Bose Frames', 'Bose Frames', 'Bose Frames', 'Bose QuietComfort 45 Headphones', 'Bose Frames', 'Bose Frames', 'Bose QuietComfort 45 Headphones', 'Bose QuietComfort 45 Headphones']\n",
      "['Bose Frames', 'Bose Frames', 'Bose TV Speaker', 'Bose TV Speaker', 'Bose QuietComfort 45 Headphones', 'Bose QuietComfort 45 Headphones', 'Bose Frames', 'Bose TV Speaker', 'Bose Frames', 'Bose TV Speaker', 'Bose QuietComfort 45 Headphones', 'Bose Frames', 'Bose QuietComfort 45 Headphones', 'Bose TV Speaker', 'Bose TV Speaker']\n",
      "['Flying Tiger Advent Calendar', 'Flying Tiger Advent Calendar', 'Flying Tiger Advent Calendar', 'Flying Tiger Advent Calendar', 'Bose Frames', 'Bose TV Speaker', 'Bose Frames', 'Bose Frames', 'Bose TV Speaker', 'Bose TV Speaker', 'Bose QuietComfort 45 Headphones', 'Bose QuietComfort 45 Headphones', 'Bose TV Speaker', 'Bose QuietComfort 45 Headphones', 'Bose QuietComfort 45 Headphones']\n",
      "['Bose QuietComfort 45 Headphones', 'Bose Frames', 'Bose Frames', 'Bose TV Speaker', 'Bose Frames', 'Bose Frames', 'Bose QuietComfort 45 Headphones', 'Bose Frames', 'Bose Frames', 'Bose QuietComfort 45 Headphones', 'Bose Frames', 'Bose QuietComfort 45 Headphones', 'Bose TV Speaker', 'Bose Frames', 'Bose QuietComfort 45 Headphones']\n",
      "['Flying Tiger Advent Calendar', 'Flying Tiger Advent Calendar', 'Flying Tiger Advent Calendar', 'Flying Tiger Advent Calendar', 'Flying Tiger Advent Calendar', 'Bose TV Speaker', 'Bose Frames', 'Bose TV Speaker', 'Bose TV Speaker', 'Bose QuietComfort 45 Headphones', 'Bose Frames', 'Bose QuietComfort 45 Headphones', 'Bose TV Speaker', 'Bose Frames', 'Bose QuietComfort 45 Headphones']\n",
      "['Flying Tiger Advent Calendar', 'Flying Tiger Advent Calendar', 'Flying Tiger Advent Calendar', 'Flying Tiger Advent Calendar', 'Flying Tiger Advent Calendar', 'Bose Frames', 'Bose Frames', 'Bose TV Speaker', 'Bose TV Speaker', 'Bose QuietComfort 45 Headphones', 'Bose TV Speaker', 'Bose QuietComfort 45 Headphones', 'Bose Frames', 'Bose TV Speaker', 'Bose TV Speaker']\n"
     ]
    }
   ],
   "source": [
    "for i, row in pd.read_json('gs://cohere-data/retrieval_augmentation/repair_bench/20240930/output/arabic-annotation-dataset.jsonl', lines=True).iterrows():\n",
    "    print(list(map(lambda x: x['title'],row['search_results'][0])))"
   ]
  },
  {
   "cell_type": "code",
   "execution_count": null,
   "id": "30215723-cd1b-402c-9bd2-e1c96765e571",
   "metadata": {},
   "outputs": [],
   "source": []
  }
 ],
 "metadata": {
  "kernelspec": {
   "display_name": "Python (sandbox)",
   "language": "python",
   "name": "sandbox"
  },
  "language_info": {
   "codemirror_mode": {
    "name": "ipython",
    "version": 3
   },
   "file_extension": ".py",
   "mimetype": "text/x-python",
   "name": "python",
   "nbconvert_exporter": "python",
   "pygments_lexer": "ipython3",
   "version": "3.11.10"
  }
 },
 "nbformat": 4,
 "nbformat_minor": 5
}
